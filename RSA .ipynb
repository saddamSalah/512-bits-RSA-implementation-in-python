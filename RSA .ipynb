{
 "cells": [
  {
   "cell_type": "markdown",
   "metadata": {},
   "source": [
    "<h2>The RSA crypto scheme, sometimes referred to as the\n",
    "Rivest–Shamir–Adleman algorithm, is currently the\n",
    "most widely used asymmetric cryptographic scheme</h2>\n",
    "<h3> There are many applications for RSA, but in practice it\n",
    "is most often used for:</h3><br />\n",
    "1- encryption of small pieces of data, especially for key\n",
    "transport <br />\n",
    "2- digital signatures"
   ]
  },
  {
   "cell_type": "markdown",
   "metadata": {},
   "source": [
    "<br /><h3>Here we are going to implement RSA with public and private keys up to 512 bits within limit of time for setup and decryption less than 3 seconds!<h3>"
   ]
  },
  {
   "cell_type": "markdown",
   "metadata": {},
   "source": [
    "First let us import our neede libraries"
   ]
  },
  {
   "cell_type": "code",
   "execution_count": 1,
   "metadata": {},
   "outputs": [],
   "source": [
    "import random\n",
    "import numpy as np\n",
    "from random import randrange, randint\n",
    "import timeit"
   ]
  },
  {
   "cell_type": "markdown",
   "metadata": {},
   "source": [
    "1- We need to implement Euclid's algorithm for determining the greatest common divisor\n",
    "Use iteration to make it faster for larger integers"
   ]
  },
  {
   "cell_type": "code",
   "execution_count": 2,
   "metadata": {},
   "outputs": [],
   "source": [
    "def gcd(a, b):\n",
    "    while b != 0:\n",
    "        a, b = b, a % b\n",
    "    return a"
   ]
  },
  {
   "cell_type": "markdown",
   "metadata": {},
   "source": [
    "Square and multiply to make expontiation faster than usual"
   ]
  },
  {
   "cell_type": "code",
   "execution_count": 3,
   "metadata": {},
   "outputs": [],
   "source": [
    "def squareAndMultiply(base,exponent,modulus):\n",
    "    #Converting the exponent to its binary form\n",
    "    binaryExponent = []\n",
    "    while exponent != 0:\n",
    "        binaryExponent.append(exponent%2)\n",
    "        exponent = exponent/2\n",
    "    #Appllication of the square and multiply algorithm\n",
    "    result = 1\n",
    "    binaryExponent.reverse()\n",
    "    for i in binaryExponent:\n",
    "        if i == 0:\n",
    "            result = (result*result) % modulus\n",
    "        else:\n",
    "            result = (result*result*base) % modulus\n",
    "\n",
    "    return result"
   ]
  },
  {
   "cell_type": "markdown",
   "metadata": {},
   "source": [
    "2- Euclid's extended algorithm for finding the multiplicative inverse of two numbers"
   ]
  },
  {
   "cell_type": "code",
   "execution_count": 4,
   "metadata": {},
   "outputs": [],
   "source": [
    "def multiplicative_inverse(e, phi):\n",
    "    d = 0\n",
    "    x1 = 0\n",
    "    x2 = 1\n",
    "    y1 = 1\n",
    "    temp_phi = phi\n",
    "    \n",
    "    while e > 0:\n",
    "        temp1 = temp_phi/e\n",
    "        temp2 = temp_phi - temp1 * e\n",
    "        temp_phi = e\n",
    "        e = temp2\n",
    "        \n",
    "        x = x2- temp1* x1\n",
    "        y = d - temp1 * y1\n",
    "        \n",
    "        x2 = x1\n",
    "        x1 = x\n",
    "        d = y1\n",
    "        y1 = y\n",
    "    \n",
    "    if temp_phi == 1:\n",
    "        return d + phi"
   ]
  },
  {
   "cell_type": "markdown",
   "metadata": {},
   "source": [
    "3- Tests to see if a number is prime. and to keep our time limit we need to use a trick to make our test faster so we implement Miller-rabin for primality test "
   ]
  },
  {
   "cell_type": "code",
   "execution_count": 5,
   "metadata": {},
   "outputs": [],
   "source": [
    "def is_prime(n, k=10):\n",
    "    if n == 2:\n",
    "        return True\n",
    "    if not n & 1:\n",
    "        return False\n",
    "\n",
    "    def check(a, s, d, n):\n",
    "        x = pow(a, d, n)\n",
    "        if x == 1:\n",
    "            return True\n",
    "        for i in xrange(s - 1):\n",
    "            if x == n - 1:\n",
    "                return True\n",
    "            x = pow(x, 2, n)\n",
    "        return x == n - 1\n",
    "\n",
    "    s = 0\n",
    "    d = n - 1\n",
    "\n",
    "    while d % 2 == 0:\n",
    "        d >>= 1\n",
    "        s += 1\n",
    "\n",
    "    for i in xrange(k):\n",
    "        a = randrange(2, n - 1)\n",
    "        if not check(a, s, d, n):\n",
    "            return False\n",
    "    return True"
   ]
  },
  {
   "cell_type": "markdown",
   "metadata": {},
   "source": [
    "4- here we are going to generat prime number according to the size entered bu the user"
   ]
  },
  {
   "cell_type": "code",
   "execution_count": 6,
   "metadata": {},
   "outputs": [],
   "source": [
    "def generate_big_prime(n, p_in=0):\n",
    "    found_prime = False\n",
    "    while not found_prime:\n",
    "        p = randint(pow(2, (n-1)), pow(2, n))\n",
    "        if is_prime(p, 100) and p != p_in:\n",
    "            return p"
   ]
  },
  {
   "cell_type": "markdown",
   "metadata": {},
   "source": [
    "5- generate public and private key pair "
   ]
  },
  {
   "cell_type": "code",
   "execution_count": 7,
   "metadata": {},
   "outputs": [],
   "source": [
    "def generate_keypair(p, q, n):\n",
    "    if not (is_prime(p) and is_prime(q)):\n",
    "        raise ValueError('Both numbers must be prime.')\n",
    "    elif p == q:\n",
    "        raise ValueError('p and q cannot be equal')\n",
    "    n = np.multiply(p , q)\n",
    "    phi = np.multiply((p-1) , (q-1))\n",
    "    e = random.randrange(1, phi)\n",
    "    # Use Euclid's Algorithm to verify that e and phi(n) are comprime\n",
    "    g = gcd(e, phi)\n",
    "    while g != 1:\n",
    "        e = random.randrange(1, phi)\n",
    "        g = gcd(e, phi)\n",
    "    # Use Extended Euclid's Algorithm to generate the private key\n",
    "    d = multiplicative_inverse(e, phi)\n",
    "    \n",
    "    # Return public and private keypair\n",
    "    # Public key is (e, n) and private key is (d, n)\n",
    "    return ((e, n), (d, n))"
   ]
  },
  {
   "cell_type": "markdown",
   "metadata": {},
   "source": [
    "6- here we are gonna finish we need Encryption and Decryption methods of our RSA"
   ]
  },
  {
   "cell_type": "code",
   "execution_count": 8,
   "metadata": {},
   "outputs": [],
   "source": [
    "def encrypt(pk, plaintext):\n",
    "    #Unpack the key into it's components\n",
    "    key, n = pk\n",
    "    cipher = [(squareAndMultiply(ord(char), key , n)) for char in plaintext]\n",
    "    return cipher"
   ]
  },
  {
   "cell_type": "code",
   "execution_count": 9,
   "metadata": {},
   "outputs": [],
   "source": [
    "def decrypt(pk, ciphertext):\n",
    "    #Unpack the key into its components\n",
    "    key, n = pk\n",
    "    #Generate the plaintext based on the ciphertext and key using a^b mod m\n",
    "    plain = [chr(squareAndMultiply(char , key , n)) for char in ciphertext]\n",
    "    #Return the array of bytes as a string\n",
    "    return ''.join(plain)"
   ]
  },
  {
   "cell_type": "markdown",
   "metadata": {},
   "source": [
    "Finally our main method to call previous methods "
   ]
  },
  {
   "cell_type": "code",
   "execution_count": 10,
   "metadata": {},
   "outputs": [
    {
     "name": "stdout",
     "output_type": "stream",
     "text": [
      "RSA Encrypter/ Decrypter\n"
     ]
    }
   ],
   "source": [
    "print \"RSA Encrypter/ Decrypter\""
   ]
  },
  {
   "cell_type": "code",
   "execution_count": 11,
   "metadata": {},
   "outputs": [
    {
     "name": "stdout",
     "output_type": "stream",
     "text": [
      "Enter size of P in bits : 512\n",
      "Enter size of q in bits : 512\n"
     ]
    }
   ],
   "source": [
    "p_size =int(raw_input(\"Enter size of P in bits : \"))\n",
    "q_size =int(raw_input(\"Enter size of q in bits : \"))"
   ]
  },
  {
   "cell_type": "code",
   "execution_count": 12,
   "metadata": {},
   "outputs": [],
   "source": [
    "setup_start = timeit.default_timer()\n",
    "p = generate_big_prime(p_size)\n",
    "q = generate_big_prime(q_size, p)"
   ]
  },
  {
   "cell_type": "code",
   "execution_count": 13,
   "metadata": {},
   "outputs": [
    {
     "name": "stdout",
     "output_type": "stream",
     "text": [
      "Value of P : 12696127601781339801856395950318397170597584398231246500265647455796978896809074929051461759357736489903053171427168235738151558854156946572297470007366599\n",
      "Value of q : 12234530517596663832847179047145218648087097985514495581814091758232723659976704784474585216600166846973067867637033623139298943604802661823159592432796721\n"
     ]
    }
   ],
   "source": [
    "print('Value of P : ' + str(p))\n",
    "print('Value of q : ' + str(q))"
   ]
  },
  {
   "cell_type": "code",
   "execution_count": 14,
   "metadata": {},
   "outputs": [
    {
     "name": "stdout",
     "output_type": "stream",
     "text": [
      "Generating your public/private keypairs now . . .\n",
      "Your public key is  (65120766826150720824463739424754782284639417151760125041534888110709496909347216488683996762150072124585160960283905236804377908578967191024643684234067715337717881938459281608153251517827163210181855479225324822312654255039045719140931030426337608911374033172480813801834339216441771909365298972278085410571L, 155331160599295145524154527022186629413620703970199690003660283986364067501366992517713877630635372589859083873595194617473517367042043556154841408323091976069376596953768829043722315317989549565749906548766634158352464847040946713893097074169621752390132486327615865697714115763693287478600083051717892121879L)  and your private key is  (222030375980028671811862881649983524225936740214930498029093297814457023401757014574777899109847082291572893367728083139867142943687490350869082794892210123826920905610888683573126691868305413524295120725969080548200071126776892290562781080192388539520873145830214835403795990982311842675963962112564745763011L, 155331160599295145524154527022186629413620703970199690003660283986364067501366992517713877630635372589859083873595194617473517367042043556154841408323091976069376596953768829043722315317989549565749906548766634158352464847040946713893097074169621752390132486327615865697714115763693287478600083051717892121879L)\n"
     ]
    }
   ],
   "source": [
    "print \"Generating your public/private keypairs now . . .\"\n",
    "public, private = generate_keypair(p, q, p_size)\n",
    "print \"Your public key is \", public ,\" and your private key is \", private"
   ]
  },
  {
   "cell_type": "code",
   "execution_count": 15,
   "metadata": {},
   "outputs": [
    {
     "name": "stdout",
     "output_type": "stream",
     "text": [
      "setup time is : 1.18098497391\n"
     ]
    }
   ],
   "source": [
    "setup_end = timeit.default_timer()\n",
    "print(\"setup time is : \" + str((setup_end - setup_start)))"
   ]
  },
  {
   "cell_type": "code",
   "execution_count": 16,
   "metadata": {},
   "outputs": [
    {
     "name": "stdout",
     "output_type": "stream",
     "text": [
      "Enter a message to encrypt with public key: hello world!\n",
      "Your encrypted message is: \n",
      "660338289401602022622602103625961684728593566365984071933440338883259826171048120304160298996293925853091751547844670242138781941248603186059839137381492720242401332327685808540980632938377999252416742358526108014738731251334430838443639055254492329868472252284141979410624710289138599176295259582638002040867680959867122431069334839700327665270522819025009558744119274403717441286904442618057221288321837003520637257677627577339523937475960591476120119511103456857651363314401583888222613565583306242010275656219140228418944788209218525000706814842295347667444323632090627331381596145961537658437782315906020453999657525443707994275660670207765208463613806319173580595945057544881019053704343857683850471354268844336268159566745972032612575039585668761555517900884843568935368510180226375081291728336305703352907265878465382389525925138246483430716438137338470054763252389253327061578526587244761344828175316910693154542606575254437079942756606702077652084636138063191735805959450575448810190537043438576838504713542688443362681595667459720326125750395856687615555179008848435689353685101802263750812917283363057033529072658784653823895259251382464834307164381373384700547632523892533270615785265872447613448281753169106931545426013058371560365567266035281095662657220286291506468452110292753824003793489602530638817589548181067539454057422723671149547738371916656621296378315284055591670846238759121902123611665279221828091522809683898717538302229544265567409057739650063732158238758454254886969236530964099921107713492500969694897068759512266075346564730015122452642754708400189614276569108516020011085402699501602090750878690715365218456762486757147834408331436220391257005874762132618933836964296250552166271439482812393098262009150356769342655572442906991463937533951942904247626474339508422508925275715473923819625155881210721565165723831638811503810847937269234472753086641334878143862870855887024967063350882640652780059836712465445178743185222145545649651715115568697564915630481149682547089884535848828057145318424367758007694443035810503269470743930523888999978446556821237327584507547408064293149885373238425832991868419167304826284537820545222813058371560365567266035281095662657220286291506468452110292753824003793489602530638817589548181067539454057422723671149547738371916656621296378315284055591670846238759121902123611665279221828091522809683898717538302229544265567409057739650063732158238758454254886969236530964099921107713492500969694897068759518583895158713384911978434671324760794169982382669730814324275709350595079725917919848767909445881043432161226597101115248090604262500559004181483265860427146270465129700796228062828016415202603697880090012112383774864717500439752136274413928943498856593988094771116006414411040967758678315939875488492621032657525443707994275660670207765208463613806319173580595945057544881019053704343857683850471354268844336268159566745972032612575039585668761555517900884843568935368510180226375081291728336305703352907265878465382389525925138246483430716438137338470054763252389253327061578526587244761344828175316910693154542601073465682490673908757673664862442037508127351919426321306047191903898468296284069371657317752118156296936309576947706853763882384200040794645324283078455781346729682518624811280058613914479504532995828954154449561154920180450361607417423051883479720592932141755629980500318962366776732525739845372069681182111660270724944533919847678421189844958771219534820500970600045574398334541572162284799985485160562794002388609325602578930257984003635315608225724479952222048054563721016632145490627570146836453639493114313131575875630029188274194979109048551300629395347348820161358851580227825675228883218652547467475254462\n",
      "Decrypting message with private key  . . .\n"
     ]
    }
   ],
   "source": [
    "message = raw_input(\"Enter a message to encrypt with public key: \")\n",
    "encrypted_msg = encrypt(public, message)\n",
    "print \"Your encrypted message is: \"\n",
    "print ''.join(map(lambda x: str(x), encrypted_msg))\n",
    "print \"Decrypting message with private key  . . .\""
   ]
  },
  {
   "cell_type": "code",
   "execution_count": 17,
   "metadata": {},
   "outputs": [],
   "source": [
    "decrypt_start = timeit.default_timer()\n",
    "decrypted_message =  decrypt(private, encrypted_msg)\n",
    "decrypt_end = timeit.default_timer()"
   ]
  },
  {
   "cell_type": "code",
   "execution_count": 18,
   "metadata": {},
   "outputs": [
    {
     "name": "stdout",
     "output_type": "stream",
     "text": [
      "Your original massage is: hello world!\n",
      "Decryption time is : 0.128057956696\n"
     ]
    }
   ],
   "source": [
    "print \"Your original massage is: \" + str(decrypted_message)\n",
    "print(\"Decryption time is : \" + str((decrypt_end - decrypt_start)))"
   ]
  },
  {
   "cell_type": "code",
   "execution_count": 19,
   "metadata": {},
   "outputs": [
    {
     "name": "stdout",
     "output_type": "stream",
     "text": [
      "setup Time + Decryption Time = 1.3090429306\n"
     ]
    }
   ],
   "source": [
    "print(\"setup Time + Decryption Time = \" + str((decrypt_end - decrypt_start) + (setup_end - setup_start)))"
   ]
  },
  {
   "cell_type": "code",
   "execution_count": null,
   "metadata": {},
   "outputs": [],
   "source": []
  },
  {
   "cell_type": "code",
   "execution_count": null,
   "metadata": {},
   "outputs": [],
   "source": []
  },
  {
   "cell_type": "code",
   "execution_count": null,
   "metadata": {},
   "outputs": [],
   "source": []
  }
 ],
 "metadata": {
  "kernelspec": {
   "display_name": "Python 2",
   "language": "python",
   "name": "python2"
  },
  "language_info": {
   "codemirror_mode": {
    "name": "ipython",
    "version": 2
   },
   "file_extension": ".py",
   "mimetype": "text/x-python",
   "name": "python",
   "nbconvert_exporter": "python",
   "pygments_lexer": "ipython2",
   "version": "2.7.12"
  }
 },
 "nbformat": 4,
 "nbformat_minor": 1
}
